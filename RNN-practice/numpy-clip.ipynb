{
 "cells": [
  {
   "cell_type": "markdown",
   "id": "b3258854",
   "metadata": {},
   "source": [
    "# numpy clip"
   ]
  },
  {
   "cell_type": "code",
   "execution_count": 14,
   "id": "6d429b70",
   "metadata": {},
   "outputs": [
    {
     "data": {
      "text/plain": [
       "array([0, 1, 2, 3, 4, 5, 6, 7, 8, 9])"
      ]
     },
     "execution_count": 14,
     "metadata": {},
     "output_type": "execute_result"
    }
   ],
   "source": [
    "import numpy as np\n",
    "a = np.arange(10); a\n",
    "np.clip(a, 1, 8);a "
   ]
  },
  {
   "cell_type": "code",
   "execution_count": 15,
   "id": "1c47f750",
   "metadata": {},
   "outputs": [
    {
     "data": {
      "text/plain": [
       "array([3, 3, 3, 3, 4, 5, 6, 6, 6, 6])"
      ]
     },
     "execution_count": 15,
     "metadata": {},
     "output_type": "execute_result"
    }
   ],
   "source": [
    "np.clip(a, 3, 6, out=a)\n"
   ]
  },
  {
   "cell_type": "code",
   "execution_count": null,
   "id": "c6d7a3cf",
   "metadata": {},
   "outputs": [
    {
     "data": {
      "text/plain": [
       "array([0, 1, 2, 3, 4, 5, 6, 7, 8, 9])"
      ]
     },
     "execution_count": 17,
     "metadata": {},
     "output_type": "execute_result"
    }
   ],
   "source": [
    "a = np.arange(10);a \n",
    "np.clip(a, [3, 4, 1, 1, 1, 4, 4, 4, 4, 4], 8)"
   ]
  }
 ],
 "metadata": {
  "kernelspec": {
   "display_name": "base",
   "language": "python",
   "name": "python3"
  },
  "language_info": {
   "codemirror_mode": {
    "name": "ipython",
    "version": 3
   },
   "file_extension": ".py",
   "mimetype": "text/x-python",
   "name": "python",
   "nbconvert_exporter": "python",
   "pygments_lexer": "ipython3",
   "version": "3.12.7"
  }
 },
 "nbformat": 4,
 "nbformat_minor": 5
}
