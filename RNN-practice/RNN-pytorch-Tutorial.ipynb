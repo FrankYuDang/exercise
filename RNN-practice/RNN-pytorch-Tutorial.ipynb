{
 "cells": [
  {
   "cell_type": "markdown",
   "id": "7788a448",
   "metadata": {},
   "source": [
    "# predicting sequential data\n",
    "2025-05-16\n",
    "Reference https://www.geeksforgeeks.org/implementing-recurrent-neural-networks-in-pytorch/ \n"
   ]
  },
  {
   "cell_type": "markdown",
   "id": "17c48bb1",
   "metadata": {},
   "source": [
    "## step 1 import libraries "
   ]
  },
  {
   "cell_type": "code",
   "execution_count": 1,
   "id": "39418be3",
   "metadata": {},
   "outputs": [],
   "source": [
    "import torch \n",
    "import torch.nn as nn\n",
    "import torch.optim as optim\n",
    "import numpy as np\n",
    "import matplotlib.pyplot as plt"
   ]
  },
  {
   "cell_type": "markdown",
   "id": "81cfb39c",
   "metadata": {},
   "source": [
    "## Step 2: create synthetic dataset"
   ]
  },
  {
   "cell_type": "code",
   "execution_count": null,
   "id": "7bde7c04",
   "metadata": {},
   "outputs": [
    {
     "name": "stdout",
     "output_type": "stream",
     "text": [
      "torch.Size([1000, 50]) torch.Size([1000, 50])\n"
     ]
    }
   ],
   "source": [
    "def generate_data(seq_length, num_samples):\n",
    "    X = []\n",
    "    y = []\n",
    "    for i in range(num_samples):\n",
    "        x = np.linspace(i * 2 * np.pi, (i + 1) * 2 * np.pi, seq_length + 1)\n",
    "        sine_wave = np.sin(x)\n",
    "        X.append(sine_wave[:-1])  \n",
    "        y.append(sine_wave[1:])   \n",
    "    return np.array(X), np.array(y)\n",
    "\n",
    "seq_length = 50\n",
    "num_samples = 1000\n",
    "X, y = generate_data(seq_length, num_samples) # sample 里有1000个样本，每个样本50个点\n",
    "\n",
    "X = torch.tensor(X, dtype=torch.float32)\n",
    "y = torch.tensor(y, dtype=torch.float32)\n",
    "\n",
    "print(X.shape, y.shape)"
   ]
  },
  {
   "cell_type": "code",
   "execution_count": 13,
   "id": "77e44797",
   "metadata": {},
   "outputs": [
    {
     "data": {
      "text/plain": [
       "[<matplotlib.lines.Line2D at 0x2b04edb3f20>]"
      ]
     },
     "execution_count": 13,
     "metadata": {},
     "output_type": "execute_result"
    },
    {
     "data": {
      "image/png": "[encoded data removed]",
      "text/plain": [
       "<Figure size 640x480 with 1 Axes>"
      ]
     },
     "metadata": {},
     "output_type": "display_data"
    }
   ],
   "source": [
    "plt.figure(1)\n",
    "plt.plot(X[0].numpy(), label='Input')"
   ]
  },
  {
   "cell_type": "markdown",
   "id": "bdf4b522",
   "metadata": {},
   "source": [
    "## Step 3: Define the RNN model"
   ]
  },
  {
   "cell_type": "code",
   "execution_count": null,
   "id": "33267ac8",
   "metadata": {},
   "outputs": [],
   "source": [
    "class SimpleRNN(nn.Module):\n",
    "    def __init__(self, input_size, hidden_size, output_size):\n",
    "        super(SimpleRNN, self).__init__() # 调用父类nn.Module的构造函数\n",
    "        self.rnn = nn.RNN(input_size, hidden_size, batch_first=True) \n",
    "    #! batch_first=True时，输入 x的形状是 (batch_size, seq_length, input_size) - RNN 输出out形状（m, Tx, nx）\n",
    "    #! batch_first=False时，输入 x的形状是 (seq_length, batch_size, input_size) -RNN 输出out形状（Tx, m, nx）\n",
    "        self.fc = nn.Linear(hidden_size, output_size)\n",
    "    \n",
    "    def forward(self, x):\n",
    "        h0 = torch.zeros(1, x.size(0), hidden_size).to(x.device)\n",
    "        out, _ = self.rnn(x, h0)\n",
    "        out = self.fc(out)\n",
    "        return out\n",
    "\n",
    "input_size = 1\n",
    "hidden_size = 20\n",
    "output_size = 1\n",
    "model = SimpleRNN(input_size, hidden_size, output_size)"
   ]
  },
  {
   "cell_type": "markdown",
   "id": "393ed157",
   "metadata": {},
   "source": [
    "## Step 4: Train the model"
   ]
  },
  {
   "cell_type": "code",
   "execution_count": null,
   "id": "8843a4f6",
   "metadata": {},
   "outputs": [
    {
     "name": "stdout",
     "output_type": "stream",
     "text": [
      "Epoch [10/1000], Loss: 0.0061\n",
      "Epoch [20/1000], Loss: 0.0026\n",
      "Epoch [30/1000], Loss: 0.0013\n",
      "Epoch [40/1000], Loss: 0.0006\n",
      "Epoch [50/1000], Loss: 0.0004\n",
      "Epoch [60/1000], Loss: 0.0002\n",
      "Epoch [70/1000], Loss: 0.0002\n",
      "Epoch [80/1000], Loss: 0.0002\n",
      "Epoch [90/1000], Loss: 0.0001\n",
      "Epoch [100/1000], Loss: 0.0001\n",
      "Epoch [110/1000], Loss: 0.0001\n",
      "Epoch [120/1000], Loss: 0.0001\n",
      "Epoch [130/1000], Loss: 0.0001\n",
      "Epoch [140/1000], Loss: 0.0001\n",
      "Epoch [150/1000], Loss: 0.0002\n",
      "Epoch [160/1000], Loss: 0.0001\n",
      "Epoch [170/1000], Loss: 0.0001\n",
      "Epoch [180/1000], Loss: 0.0001\n",
      "Epoch [190/1000], Loss: 0.0001\n",
      "Epoch [200/1000], Loss: 0.0001\n",
      "Epoch [210/1000], Loss: 0.0001\n",
      "Epoch [220/1000], Loss: 0.0001\n",
      "Epoch [230/1000], Loss: 0.0001\n",
      "Epoch [240/1000], Loss: 0.0001\n",
      "Epoch [250/1000], Loss: 0.0001\n",
      "Epoch [260/1000], Loss: 0.0003\n",
      "Epoch [270/1000], Loss: 0.0002\n",
      "Epoch [280/1000], Loss: 0.0001\n",
      "Epoch [290/1000], Loss: 0.0001\n",
      "Epoch [300/1000], Loss: 0.0001\n",
      "Epoch [310/1000], Loss: 0.0001\n",
      "Epoch [320/1000], Loss: 0.0001\n",
      "Epoch [330/1000], Loss: 0.0001\n",
      "Epoch [340/1000], Loss: 0.0001\n",
      "Epoch [350/1000], Loss: 0.0001\n",
      "Epoch [360/1000], Loss: 0.0001\n",
      "Epoch [370/1000], Loss: 0.0001\n",
      "Epoch [380/1000], Loss: 0.0001\n",
      "Epoch [390/1000], Loss: 0.0000\n",
      "Epoch [400/1000], Loss: 0.0000\n",
      "Epoch [410/1000], Loss: 0.0000\n",
      "Epoch [420/1000], Loss: 0.0000\n",
      "Epoch [430/1000], Loss: 0.0000\n",
      "Epoch [440/1000], Loss: 0.0000\n",
      "Epoch [450/1000], Loss: 0.0000\n",
      "Epoch [460/1000], Loss: 0.0000\n",
      "Epoch [470/1000], Loss: 0.0000\n",
      "Epoch [480/1000], Loss: 0.0000\n",
      "Epoch [490/1000], Loss: 0.0000\n",
      "Epoch [500/1000], Loss: 0.0000\n",
      "Epoch [510/1000], Loss: 0.0003\n",
      "Epoch [520/1000], Loss: 0.0001\n",
      "Epoch [530/1000], Loss: 0.0001\n",
      "Epoch [540/1000], Loss: 0.0001\n",
      "Epoch [550/1000], Loss: 0.0001\n",
      "Epoch [560/1000], Loss: 0.0001\n",
      "Epoch [570/1000], Loss: 0.0001\n",
      "Epoch [580/1000], Loss: 0.0001\n",
      "Epoch [590/1000], Loss: 0.0000\n",
      "Epoch [600/1000], Loss: 0.0000\n",
      "Epoch [610/1000], Loss: 0.0000\n",
      "Epoch [620/1000], Loss: 0.0000\n",
      "Epoch [630/1000], Loss: 0.0000\n",
      "Epoch [640/1000], Loss: 0.0000\n",
      "Epoch [650/1000], Loss: 0.0000\n",
      "Epoch [660/1000], Loss: 0.0000\n",
      "Epoch [670/1000], Loss: 0.0000\n",
      "Epoch [680/1000], Loss: 0.0000\n",
      "Epoch [690/1000], Loss: 0.0000\n",
      "Epoch [700/1000], Loss: 0.0000\n",
      "Epoch [710/1000], Loss: 0.0000\n",
      "Epoch [720/1000], Loss: 0.0000\n",
      "Epoch [730/1000], Loss: 0.0000\n",
      "Epoch [740/1000], Loss: 0.0000\n",
      "Epoch [750/1000], Loss: 0.0000\n",
      "Epoch [760/1000], Loss: 0.0000\n",
      "Epoch [770/1000], Loss: 0.0000\n",
      "Epoch [780/1000], Loss: 0.0000\n",
      "Epoch [790/1000], Loss: 0.0000\n",
      "Epoch [800/1000], Loss: 0.0000\n",
      "Epoch [810/1000], Loss: 0.0000\n",
      "Epoch [820/1000], Loss: 0.0000\n",
      "Epoch [830/1000], Loss: 0.0000\n",
      "Epoch [840/1000], Loss: 0.0000\n",
      "Epoch [850/1000], Loss: 0.0000\n",
      "Epoch [860/1000], Loss: 0.0000\n",
      "Epoch [870/1000], Loss: 0.0000\n",
      "Epoch [880/1000], Loss: 0.0000\n",
      "Epoch [890/1000], Loss: 0.0000\n",
      "Epoch [900/1000], Loss: 0.0000\n",
      "Epoch [910/1000], Loss: 0.0000\n",
      "Epoch [920/1000], Loss: 0.0000\n",
      "Epoch [930/1000], Loss: 0.0000\n",
      "Epoch [940/1000], Loss: 0.0000\n",
      "Epoch [950/1000], Loss: 0.0000\n",
      "Epoch [960/1000], Loss: 0.0000\n",
      "Epoch [970/1000], Loss: 0.0000\n",
      "Epoch [980/1000], Loss: 0.0000\n",
      "Epoch [990/1000], Loss: 0.0000\n",
      "Epoch [1000/1000], Loss: 0.0000\n"
     ]
    }
   ],
   "source": [
    "criterion = nn.MSELoss()\n",
    "optimizer = optim.Adam(model.parameters(), lr=0.001)\n",
    "\n",
    "num_epochs = 100\n",
    "for epoch in range(num_epochs):\n",
    "    model.train()\n",
    "    outputs = model(X.unsqueeze(2))\n",
    "    loss = criterion(outputs, y.unsqueeze(2))\n",
    "    \n",
    "    optimizer.zero_grad()\n",
    "    loss.backward()\n",
    "    optimizer.step()\n",
    "    \n",
    "    if (epoch + 1) % 10 == 0:\n",
    "        print(f'Epoch [{epoch+1}/{num_epochs}], Loss: {loss.item():.4f}')"
   ]
  },
  {
   "cell_type": "markdown",
   "id": "a330ae2e",
   "metadata": {},
   "source": [
    "## Step 5: Visualize the results"
   ]
  },
  {
   "cell_type": "code",
   "execution_count": 7,
   "id": "bf60787a",
   "metadata": {},
   "outputs": [
    {
     "data": {
      "image/png": "[encoded data removed]",
      "text/plain": [
       "<Figure size 1000x600 with 1 Axes>"
      ]
     },
     "metadata": {},
     "output_type": "display_data"
    }
   ],
   "source": [
    "model.eval()\n",
    "with torch.no_grad():\n",
    "    predictions = model(X.unsqueeze(2)).squeeze(2).numpy()\n",
    "\n",
    "plt.figure(figsize=(10, 6))\n",
    "plt.plot(y[0].numpy(), label='True')\n",
    "plt.plot(predictions[0], label='Predicted')\n",
    "plt.legend()\n",
    "plt.show()"
   ]
  },
  {
   "cell_type": "markdown",
   "id": "6e60626f",
   "metadata": {},
   "source": [
    "# Classifying Movie Reviews Using RNN"
   ]
  },
  {
   "cell_type": "markdown",
   "id": "dd6cc6e5",
   "metadata": {},
   "source": [
    "## Step 1: import libraries"
   ]
  },
  {
   "cell_type": "code",
   "execution_count": 8,
   "id": "98742fbf",
   "metadata": {},
   "outputs": [],
   "source": [
    "import torch\n",
    "import torch.nn as nn\n",
    "import torch.optim as optim\n",
    "import pandas as pd\n",
    "import numpy as np\n",
    "import matplotlib.pyplot as plt\n",
    "from sklearn.model_selection import train_test_split\n",
    "from sklearn.preprocessing import LabelEncoder\n",
    "from torch.utils.data import Dataset, DataLoader\n"
   ]
  },
  {
   "cell_type": "markdown",
   "id": "971bf39f",
   "metadata": {},
   "source": [
    "## Step 2: Load and preprocess the dataset"
   ]
  },
  {
   "cell_type": "code",
   "execution_count": 9,
   "id": "def9de08",
   "metadata": {},
   "outputs": [],
   "source": [
    "url = \"https://raw.githubusercontent.com/justmarkham/DAT8/master/data/sms.tsv\"\n",
    "df = pd.read_csv(url, delimiter='\\t', header=None, names=['label', 'text'])\n",
    "\n",
    "def preprocess_text(text):\n",
    "    return text.lower().split()\n",
    "\n",
    "df['text'] = df['text'].apply(preprocess_text)\n",
    "df = df[['text', 'label']]\n",
    "\n",
    "le = LabelEncoder()\n",
    "df['label'] = le.fit_transform(df['label'])\n",
    "\n",
    "train_data, test_data = train_test_split(df, test_size=0.2, random_state=42)\n",
    "\n",
    "vocab = set([word for phrase in df['text'] for word in phrase])\n",
    "word_to_idx = {word: idx for idx, word in enumerate(vocab, 1)}\n",
    "\n",
    "def encode_phrase(phrase):\n",
    "    return [word_to_idx[word] for word in phrase]\n",
    "\n",
    "train_data['text'] = train_data['text'].apply(encode_phrase)\n",
    "test_data['text'] = test_data['text'].apply(encode_phrase)\n",
    "\n",
    "max_length = max(df['text'].apply(len))\n",
    "\n",
    "def pad_sequence(seq, max_length):\n",
    "    return seq + [0] * (max_length - len(seq))\n",
    "\n",
    "train_data['text'] = train_data['text'].apply(lambda x: pad_sequence(x, max_length))\n",
    "test_data['text'] = test_data['text'].apply(lambda x: pad_sequence(x, max_length))"
   ]
  },
  {
   "cell_type": "markdown",
   "id": "6e4f6462",
   "metadata": {},
   "source": [
    "## Step 3: Create Dataset and Data Loader"
   ]
  },
  {
   "cell_type": "code",
   "execution_count": 10,
   "id": "661868c6",
   "metadata": {},
   "outputs": [],
   "source": [
    "class SentimentDataset(Dataset):\n",
    "    def __init__(self, data):\n",
    "        self.texts = data['text'].values\n",
    "        self.labels = data['label'].values\n",
    "    \n",
    "    def __len__(self):\n",
    "        return len(self.texts)\n",
    "    \n",
    "    def __getitem__(self, idx):\n",
    "        text = self.texts[idx]\n",
    "        label = self.labels[idx]\n",
    "        return torch.tensor(text, dtype=torch.long), torch.tensor(label, dtype=torch.long)\n",
    "\n",
    "train_dataset = SentimentDataset(train_data)\n",
    "test_dataset = SentimentDataset(test_data)\n",
    "\n",
    "train_loader = DataLoader(train_dataset, batch_size=32, shuffle=True)\n",
    "test_loader = DataLoader(test_dataset, batch_size=32, shuffle=False)"
   ]
  },
  {
   "cell_type": "markdown",
   "id": "53bc1469",
   "metadata": {},
   "source": [
    "这段代码的核心作用是构建一个高效的数据管道，将预处理好的数据适配给 PyTorch 模型进行训练和评估。\n",
    "\n",
    "SentimentDataset 负责定义如何从原始数据源（这里是 DataFrame）中逐个提取样本，并将这些样本转换为 PyTorch 张量。它是一个数据源的接口。\n",
    "DataLoader 则在 SentimentDataset 的基础上，提供了更高级的功能，如自动将样本组合成批次 (batching)、随机打乱数据顺序 (shuffling)（主要用于训练），以及可能的并行数据加载（以提高效率，虽然在这个代码片段中未显式配置多线程）。"
   ]
  },
  {
   "cell_type": "markdown",
   "id": "e0f48bc7",
   "metadata": {},
   "source": [
    "## step4: Define the RNN model"
   ]
  },
  {
   "cell_type": "code",
   "execution_count": 11,
   "id": "547123a1",
   "metadata": {},
   "outputs": [],
   "source": [
    "class SentimentRNN(nn.Module):\n",
    "    def __init__(self, vocab_size, embed_size, hidden_size, output_size):\n",
    "        super(SentimentRNN, self).__init__()\n",
    "        self.embedding = nn.Embedding(vocab_size, embed_size)\n",
    "        self.rnn = nn.RNN(embed_size, hidden_size, batch_first=True)\n",
    "        self.fc = nn.Linear(hidden_size, output_size)\n",
    "    \n",
    "    def forward(self, x):\n",
    "        x = self.embedding(x)\n",
    "        h0 = torch.zeros(1, x.size(0), hidden_size).to(x.device)\n",
    "        out, _ = self.rnn(x, h0)\n",
    "        out = self.fc(out[:, -1, :])\n",
    "        return out\n",
    "\n",
    "vocab_size = len(vocab) + 1\n",
    "embed_size = 128\n",
    "hidden_size = 128\n",
    "output_size = 2 \n",
    "model = SentimentRNN(vocab_size, embed_size, hidden_size, output_size)"
   ]
  },
  {
   "cell_type": "markdown",
   "id": "0c22154a",
   "metadata": {},
   "source": [
    "## Step 5: Train the model  "
   ]
  },
  {
   "cell_type": "code",
   "execution_count": 12,
   "id": "16da83e0",
   "metadata": {},
   "outputs": [
    {
     "name": "stdout",
     "output_type": "stream",
     "text": [
      "Epoch [1/10], Loss: 0.4029\n",
      "Epoch [2/10], Loss: 0.4001\n",
      "Epoch [3/10], Loss: 0.3955\n",
      "Epoch [4/10], Loss: 0.3985\n",
      "Epoch [5/10], Loss: 0.3959\n",
      "Epoch [6/10], Loss: 0.3951\n",
      "Epoch [7/10], Loss: 0.3994\n",
      "Epoch [8/10], Loss: 0.3955\n",
      "Epoch [9/10], Loss: 0.3958\n",
      "Epoch [10/10], Loss: 0.3965\n"
     ]
    }
   ],
   "source": [
    "criterion = nn.CrossEntropyLoss()\n",
    "optimizer = optim.Adam(model.parameters(), lr=0.001)\n",
    "\n",
    "num_epochs = 10\n",
    "for epoch in range(num_epochs):\n",
    "    model.train()\n",
    "    epoch_loss = 0\n",
    "    for texts, labels in train_loader:\n",
    "        outputs = model(texts)\n",
    "        loss = criterion(outputs, labels)\n",
    "        \n",
    "        optimizer.zero_grad()\n",
    "        loss.backward()\n",
    "        optimizer.step()\n",
    "        \n",
    "        epoch_loss += loss.item()\n",
    "    \n",
    "    print(f'Epoch [{epoch+1}/{num_epochs}], Loss: {epoch_loss / len(train_loader):.4f}')"
   ]
  },
  {
   "cell_type": "markdown",
   "id": "57aa7c00",
   "metadata": {},
   "source": [
    "## Step 6: Evaluate the model"
   ]
  },
  {
   "cell_type": "code",
   "execution_count": null,
   "id": "5695ce83",
   "metadata": {},
   "outputs": [],
   "source": [
    "model.eval()\n",
    "correct = 0\n",
    "total = 0\n",
    "with torch.no_grad():\n",
    "    for texts, labels in test_loader:\n",
    "        outputs = model(texts)\n",
    "        _, predicted = torch.max(outputs.data, 1)\n",
    "        total += labels.size(0)\n",
    "        correct += (predicted == labels).sum().item()\n",
    "\n",
    "accuracy = 100 * correct / total\n",
    "print(f'Accuracy: {accuracy:.2f}%')"
   ]
  },
  {
   "cell_type": "markdown",
   "id": "47128e8b",
   "metadata": {},
   "source": [
    "## Step 7: Visualize Training Loss"
   ]
  },
  {
   "cell_type": "code",
   "execution_count": null,
   "id": "2308c3e6",
   "metadata": {},
   "outputs": [],
   "source": [
    "losses = []\n",
    "\n",
    "for epoch in range(num_epochs):\n",
    "    model.train()\n",
    "    epoch_loss = 0\n",
    "    for texts, labels in train_loader:\n",
    "        outputs = model(texts)\n",
    "        loss = criterion(outputs, labels)\n",
    "        \n",
    "        optimizer.zero_grad()\n",
    "        loss.backward()\n",
    "        optimizer.step()\n",
    "        \n",
    "        epoch_loss += loss.item()\n",
    "    \n",
    "    losses.append(epoch_loss / len(train_loader))\n",
    "    print(f'Epoch [{epoch+1}/{num_epochs}], Loss: {epoch_loss / len(train_loader):.4f}')\n",
    "\n",
    "plt.figure(figsize=(10, 6))\n",
    "plt.plot(range(1, num_epochs + 1), losses, marker='o')\n",
    "plt.xlabel('Epoch')\n",
    "plt.ylabel('Loss')\n",
    "plt.title('Training Loss')\n",
    "plt.show()"
   ]
  }
 ],
 "metadata": {
  "kernelspec": {
   "display_name": "base",
   "language": "python",
   "name": "python3"
  },
  "language_info": {
   "codemirror_mode": {
    "name": "ipython",
    "version": 3
   },
   "file_extension": ".py",
   "mimetype": "text/x-python",
   "name": "python",
   "nbconvert_exporter": "python",
   "pygments_lexer": "ipython3",
   "version": "3.12.7"
  }
 },
 "nbformat": 4,
 "nbformat_minor": 5
}
