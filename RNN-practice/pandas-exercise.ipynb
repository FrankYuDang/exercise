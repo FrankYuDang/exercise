{
 "cells": [
  {
   "cell_type": "code",
   "execution_count": null,
   "id": "91193ea8",
   "metadata": {
    "vscode": {
     "languageId": "plaintext"
    }
   },
   "outputs": [],
   "source": []
  },
  {
   "cell_type": "markdown",
   "id": "9dc1cc3a",
   "metadata": {},
   "source": [
    "# 1. 读取和写入数据 (Reading and Writing Data)"
   ]
  },
  {
   "cell_type": "code",
   "execution_count": null,
   "id": "1cba6b06",
   "metadata": {},
   "outputs": [],
   "source": [
    "import pandas as pd\n",
    "\n",
    "# 从 CSV 文件读取数据\n",
    "df = pd.read_csv('your_data.csv')\n",
    "\n",
    "# 将 DataFrame 写入 CSV 文件\n",
    "df.to_csv('processed_data.csv', index=False) # index=False 避免写入索引"
   ]
  },
  {
   "cell_type": "markdown",
   "id": "e71d0970",
   "metadata": {},
   "source": [
    "# 2. 查看数据概览 (Inspecting Data)"
   ]
  },
  {
   "cell_type": "code",
   "execution_count": null,
   "id": "4c8e14b3",
   "metadata": {},
   "outputs": [],
   "source": [
    "# 假设 df 已经加载\n",
    "print(\"前5行数据:\")\n",
    "print(df.head())\n",
    "\n",
    "print(\"\\n数据维度 (行, 列):\")\n",
    "print(df.shape)\n",
    "\n",
    "print(\"\\n列名:\")\n",
    "print(df.columns)\n",
    "\n",
    "print(\"\\n数据类型:\")\n",
    "print(df.dtypes)\n",
    "\n",
    "print(\"\\n基本统计描述:\")\n",
    "print(df.describe(include='all')) # include='all' 会包含非数值列\n",
    "\n",
    "print(\"\\nDataFrame 信息概览 (包括非空值计数和内存使用):\")\n",
    "print(df.info())"
   ]
  },
  {
   "cell_type": "markdown",
   "id": "dc641aa0",
   "metadata": {},
   "source": [
    "# 3. 选择数据 (Data Selection - loc, iloc)"
   ]
  },
  {
   "cell_type": "code",
   "execution_count": null,
   "id": "fc61ea9a",
   "metadata": {},
   "outputs": [],
   "source": [
    "# 假设 df 已经加载，并且有 'feature1', 'feature2', 'target' 列\n",
    "# # 选择 'feature1' 列\n",
    "feature1_data = df['feature1']\n",
    "print(feature1_data.head())\n",
    "\n",
    "# # 选择多列\n",
    "features_df = df[['feature1', 'feature2']]\n",
    "print(features_df.head())\n",
    "\n",
    "# # 使用 loc 选择特定行和列 (按标签)\n",
    "# # 假设索引是默认的整数索引\n",
    "selected_loc = df.loc[0:4, ['feature1', 'target']] # 选择前5行，'feature1'和'target'列\n",
    "print(\"\\nUsing loc:\")\n",
    "print(selected_loc)\n",
    "\n",
    "# # 使用 iloc 选择特定行和列 (按整数位置)\n",
    "selected_iloc = df.iloc[0:5, [0, 2]] # 选择前5行，第1列和第3列\n",
    "print(\"\\nUsing iloc:\")\n",
    "print(selected_iloc)"
   ]
  },
  {
   "cell_type": "markdown",
   "id": "cbf30165",
   "metadata": {},
   "source": [
    "# 4. 处理缺失值 (Handling Missing Values)"
   ]
  },
  {
   "cell_type": "code",
   "execution_count": null,
   "id": "f9f2adf1",
   "metadata": {},
   "outputs": [],
   "source": [
    "# 假设 df 已经加载\n",
    "print(\"每列的缺失值数量:\")\n",
    "print(df.isnull().sum())\n",
    "\n",
    "# 删除所有包含缺失值的行\n",
    "df_dropped_rows = df.dropna()\n",
    "print(f\"\\n删除缺失行后的形状: {df_dropped_rows.shape}\")\n",
    "\n",
    "# # 删除所有包含缺失值的列\n",
    "df_dropped_cols = df.dropna(axis=1)\n",
    "print(f\"\\n删除缺失列后的形状: {df_dropped_cols.shape}\")\n",
    "\n",
    "\n",
    "# # 使用特定值填充所有缺失值 (例如，用0填充)\n",
    "df_filled_zeros = df.fillna(0)\n",
    "print(\"\\n用0填充后的前5行:\")\n",
    "print(df_filled_zeros.head())\n",
    "\n",
    "# 使用列的平均值填充数值列的缺失值\n",
    "# 假设 'numeric_feature' 是一个有缺失值的数值列\n",
    "if 'numeric_feature' in df.columns:\n",
    "    mean_val = df['numeric_feature'].mean()\n",
    "    df['numeric_feature_filled'] = df['numeric_feature'].fillna(mean_val)\n",
    "    print(\"\\n用均值填充 'numeric_feature' 后的缺失值统计:\")\n",
    "    print(df[['numeric_feature', 'numeric_feature_filled']].isnull().sum())"
   ]
  },
  {
   "cell_type": "markdown",
   "id": "a4a58688",
   "metadata": {},
   "source": [
    "# 5. 数据类型转换 (Data Type Conversion)"
   ]
  },
  {
   "cell_type": "code",
   "execution_count": null,
   "id": "bc67fb9f",
   "metadata": {},
   "outputs": [],
   "source": [
    "# 假设 df 已经加载\n",
    "# 假设 'age_str' 列是字符串类型，但表示年龄\n",
    "if 'age_str' in df.columns:\n",
    "    df['age_int'] = df['age_str'].astype(int)\n",
    "    print(\"\\n'age_str' 转换为 'age_int' 后的数据类型:\")\n",
    "    print(df[['age_str', 'age_int']].dtypes)\n",
    "\n",
    "# 假设 'date_str' 列是字符串类型，表示日期\n",
    "if 'date_str' in df.columns:\n",
    "    df['date_datetime'] = pd.to_datetime(df['date_str'])\n",
    "    print(\"\\n'date_str' 转换为 'date_datetime' 后的数据类型:\")\n",
    "    print(df[['date_str', 'date_datetime']].dtypes)"
   ]
  },
  {
   "cell_type": "markdown",
   "id": "631bc942",
   "metadata": {},
   "source": [
    "# 6. 数据筛选与过滤 (Filtering Data)"
   ]
  },
  {
   "cell_type": "code",
   "execution_count": null,
   "id": "b8e81e81",
   "metadata": {},
   "outputs": [],
   "source": [
    "# 假设 df 已经加载，并且有 'age' 和 'category' 列\n",
    "# 选择 'age' 大于 30 的所有行\n",
    "older_than_30 = df[df['age'] > 30]\n",
    "print(\"\\n年龄大于30的数据:\")\n",
    "print(older_than_30.head())\n",
    "\n",
    "# 选择 'category' 为 'A' 且 'age' 小于 40 的所有行\n",
    "filtered_data = df[(df['category'] == 'A') & (df['age'] < 40)]\n",
    "print(\"\\nCategory 'A' 且年龄小于40的数据:\")\n",
    "print(filtered_data.head())"
   ]
  },
  {
   "cell_type": "markdown",
   "id": "afb0faa4",
   "metadata": {},
   "source": [
    "# 7. 分组与聚合 (Grouping and Aggregation)"
   ]
  },
  {
   "cell_type": "code",
   "execution_count": null,
   "id": "56b5df44",
   "metadata": {},
   "outputs": [],
   "source": [
    "# 假设 df 已经加载，并且有 'category' 和 'sales' 列\n",
    "# 按 'category' 分组，并计算每组 'sales' 的平均值和总和\n",
    "grouped_data = df.groupby('category')['sales'].agg(['mean', 'sum'])\n",
    "print(\"\\n按 'category' 分组计算 'sales' 的均值和总和:\")\n",
    "print(grouped_data)\n",
    "\n",
    "# 按多个列分组\n",
    "grouped_multi = df.groupby(['category', 'region'])['sales'].mean()\n",
    "print(\"\\n按 'category' 和 'region' 分组计算 'sales' 的均值:\")\n",
    "print(grouped_multi)"
   ]
  },
  {
   "cell_type": "markdown",
   "id": "a6cc9dd7",
   "metadata": {},
   "source": [
    "# 8. 创建新特征 (Feature Engineering - Apply, Map)"
   ]
  },
  {
   "cell_type": "code",
   "execution_count": null,
   "id": "27403500",
   "metadata": {},
   "outputs": [],
   "source": [
    "# 假设 df 已经加载\n",
    "# 基于 'price' 和 'discount' 列创建 'final_price' 列\n",
    "if 'price' in df.columns and 'discount_rate' in df.columns: # 假设 discount_rate 是小数形式\n",
    "   df['final_price'] = df['price'] * (1 - df['discount_rate'])\n",
    "   print(\"\\n创建 'final_price' 列:\")\n",
    "   print(df[['price', 'discount_rate', 'final_price']].head())\n",
    "\n",
    "# 使用 apply 创建一个基于条件的新特征\n",
    "# 假设 'age' 列存在\n",
    "def age_group(age):\n",
    "    if age < 18:\n",
    "        return 'Child'\n",
    "    elif age < 60:\n",
    "        return 'Adult'\n",
    "    else:\n",
    "        return 'Senior'\n",
    "if 'age' in df.columns:\n",
    "   df['age_group'] = df['age'].apply(age_group)\n",
    "   print(\"\\n创建 'age_group' 列:\")\n",
    "   print(df[['age', 'age_group']].head())\n",
    "\n",
    "# 使用 map 对分类变量进行编码\n",
    "# 假设 'gender_str' 列包含 'Male', 'Female'\n",
    "if 'gender_str' in df.columns:\n",
    "    gender_map = {'Male': 0, 'Female': 1}\n",
    "    df['gender_encoded'] = df['gender_str'].map(gender_map)\n",
    "    print(\"\\n对 'gender_str' 进行编码:\")\n",
    "    print(df[['gender_str', 'gender_encoded']].head())"
   ]
  },
  {
   "cell_type": "markdown",
   "id": "ab4c25ed",
   "metadata": {},
   "source": [
    "# 9. 合并与连接数据 (Merging and Joining DataFrames)"
   ]
  },
  {
   "cell_type": "code",
   "execution_count": null,
   "id": "d9ea989e",
   "metadata": {},
   "outputs": [],
   "source": [
    "# 创建示例 DataFrames\n",
    "df1 = pd.DataFrame({'key': ['K0', 'K1', 'K2'], 'A': ['A0', 'A1', 'A2']})\n",
    "df2 = pd.DataFrame({'key': ['K0', 'K1', 'K3'], 'B': ['B0', 'B1', 'B3']})\n",
    "\n",
    "# 使用 merge (类似于 SQL 的内连接 inner join)\n",
    "merged_df = pd.merge(df1, df2, on='key', how='inner')\n",
    "print(\"\\n合并后的 DataFrame (inner join):\")\n",
    "print(merged_df)\n",
    "\n",
    "# 使用 merge (左连接 left join)\n",
    "merged_left_df = pd.merge(df1, df2, on='key', how='left')\n",
    "print(\"\\n合并后的 DataFrame (left join):\")\n",
    "print(merged_left_df)\n",
    "\n",
    "# 使用 concat (沿行堆叠)\n",
    "df3 = pd.DataFrame({'key': ['K4', 'K5'], 'A': ['A4', 'A5']})\n",
    "concatenated_df = pd.concat([df1, df3], ignore_index=True) # ignore_index 重置索引\n",
    "print(\"\\n连接后的 DataFrame (concat):\")\n",
    "print(concatenated_df)"
   ]
  },
  {
   "cell_type": "markdown",
   "id": "af26ef72",
   "metadata": {},
   "source": [
    "# 10. 数据透视表与交叉表 (Pivot Tables and Cross-Tabulations)"
   ]
  },
  {
   "cell_type": "code",
   "execution_count": null,
   "id": "d4360ed7",
   "metadata": {},
   "outputs": [],
   "source": [
    "# 假设 df 已经加载，并且有 'category', 'region', 'sales' 列\n",
    "# # 创建数据透视表：按 'category' 和 'region' 汇总 'sales' 的平均值\n",
    "if all(col in df.columns for col in ['category', 'region', 'sales']):\n",
    "    pivot_table = pd.pivot_table(df, values='sales', index='category', columns='region', aggfunc='mean')\n",
    "    print(\"\\n数据透视表 (sales 均值):\")\n",
    "    print(pivot_table)\n",
    "\n",
    "# # 创建交叉表：查看 'category' 和 'approved_status' (假设存在) 之间的频率\n",
    "# # 假设 df 有 'category' 和 'approved_status' 列\n",
    "if all(col in df.columns for col in ['category', 'approved_status']):\n",
    "   cross_tab = pd.crosstab(df['category'], df['approved_status'])\n",
    "   print(\"\\n交叉表 (category vs approved_status):\")\n",
    "   print(cross_tab)"
   ]
  }
 ],
 "metadata": {
  "language_info": {
   "name": "python"
  }
 },
 "nbformat": 4,
 "nbformat_minor": 5
}
