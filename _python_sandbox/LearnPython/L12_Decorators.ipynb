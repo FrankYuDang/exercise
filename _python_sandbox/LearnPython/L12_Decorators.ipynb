{
 "cells": [
  {
   "cell_type": "markdown",
   "metadata": {},
   "source": [
    "# Decorators\n",
    "decorators allow you to make simple modifications to callable objects like functions, methods, or classes."
   ]
  },
  {
   "cell_type": "code",
   "execution_count": null,
   "metadata": {},
   "outputs": [],
   "source": [
    "@decorator\n",
    "def functions(arg):\n",
    "    return \"value\""
   ]
  },
  {
   "cell_type": "markdown",
   "metadata": {},
   "source": [
    "is equivalent to:"
   ]
  },
  {
   "cell_type": "code",
   "execution_count": null,
   "metadata": {},
   "outputs": [],
   "source": [
    "def function(arg):\n",
    "    return \"value\"\n",
    "function = decorator(function)\n"
   ]
  },
  {
   "cell_type": "code",
   "execution_count": null,
   "metadata": {},
   "outputs": [
    {
     "name": "stdout",
     "output_type": "stream",
     "text": [
      "HELLO\n"
     ]
    }
   ],
   "source": [
    "def uppercase_decorator(func):\n",
    "    def wrapper():\n",
    "        result = func()\n",
    "        return result.upper()\n",
    "    return wrapper\n",
    "\n",
    "@uppercase_decorator\n",
    "def say_hello(): # say_hello = uppercase_decorator(say_hello)\n",
    "    return \"hello\" \n",
    "\n",
    "print(say_hello())\n"
   ]
  },
  {
   "cell_type": "code",
   "execution_count": 2,
   "metadata": {},
   "outputs": [
    {
     "name": "stdout",
     "output_type": "stream",
     "text": [
      "Something is happening before the function is called.\n",
      "Hello!\n",
      "Something is happening after the function is called.\n"
     ]
    }
   ],
   "source": [
    "def my_decorator(func):\n",
    "    def wrapper(): # 包装函数\n",
    "        print(\"Something is happening before the function is called.\")\n",
    "        func()\n",
    "        print(\"Something is happening after the function is called.\")\n",
    "    return wrapper\n",
    "\n",
    "@my_decorator\n",
    "def say_hello():\n",
    "    print(\"Hello!\")\n",
    "# say_hello = my_decorator(say_hello)\n",
    "# say_hello 函数不再是原始的 say_hello 函数，而是 my_decorator(say_hello) 的返回值，即 wrapper 函数\n",
    "say_hello()\n",
    "\n",
    "# 装饰器允许你在不修改原始函数代码的情况下，向函数添加额外的功能。\n",
    "# 在这个例子中，my_decorator 装饰器向 say_hello 函数添加了在调用前后打印消息的功能。\n",
    "# \n",
    "# "
   ]
  },
  {
   "cell_type": "code",
   "execution_count": 4,
   "metadata": {},
   "outputs": [],
   "source": [
    "def repeater(old_function):\n",
    "    def new_function(*args, **kwds):\n",
    "        print(\"Something is happening before the function is called - first time.\")\n",
    "        old_function(*args, **kwds)\n",
    "        print(\"Something is happening before the function is called - second time.\")\n",
    "        old_function(*args, **kwds)\n",
    "        print(\"Something is happening before the function is called - done.\")\n",
    "    return new_function\n",
    "    "
   ]
  },
  {
   "cell_type": "code",
   "execution_count": 5,
   "metadata": {},
   "outputs": [
    {
     "name": "stdout",
     "output_type": "stream",
     "text": [
      "Something is happening before the function is called - first time.\n",
      "6\n",
      "Something is happening before the function is called - second time.\n",
      "6\n",
      "Something is happening before the function is called - done.\n"
     ]
    }
   ],
   "source": [
    "@repeater\n",
    "def multiply(num1, num2):\n",
    "    print(num1 * num2)\n",
    "\n",
    "# multiple(num1, num2) = repeater(multiple(num1, num2))\n",
    "    \n",
    "multiply(2,3)\n",
    "        \n",
    "         "
   ]
  },
  {
   "cell_type": "code",
   "execution_count": null,
   "metadata": {},
   "outputs": [],
   "source": [
    "# change the output\n",
    "def double_out(old_function):\n",
    "    def new_function(*args, **kwds):\n",
    "        return 2 * old_function(*args, **kwds)\n",
    "    return new_function\n",
    "\n"
   ]
  },
  {
   "cell_type": "code",
   "execution_count": null,
   "metadata": {},
   "outputs": [],
   "source": [
    "# change the input\n",
    "def double_Ii(old_function):\n",
    "    def new_function(arg): # only works if the old function has one argument\n",
    "        return old_function(arg * 2) # modfiy the argument passed\n",
    "    return new_function\n"
   ]
  },
  {
   "cell_type": "code",
   "execution_count": null,
   "metadata": {},
   "outputs": [],
   "source": [
    "# and do checking\n",
    "def check(old_function):\n",
    "    def new_function(arg):\n",
    "        if arg < 0:\n",
    "            raise(ValueError, \"Negative Argument\") # This causes an error, which is better than doing the wrong thing\n",
    "        old_function(arg)\n",
    "    return new_function"
   ]
  },
  {
   "cell_type": "code",
   "execution_count": null,
   "metadata": {},
   "outputs": [
    {
     "data": {
      "text/plain": [
       "15"
      ]
     },
     "execution_count": 6,
     "metadata": {},
     "output_type": "execute_result"
    }
   ],
   "source": [
    "def multiply(multiplier): # 装饰器工厂的使用方式\n",
    "    def multiply_generator(old_function): # 装饰器\n",
    "        def new_function(*args, **kwds):  # 闭包函数\n",
    "            return multiplier * old_function(*args, **kwds)\n",
    "        return new_function\n",
    "    return multiply_generator\n",
    "# 闭包允许内部函数访问外部函数的变量（`multiplier`）。\n",
    "# 装饰器工厂允许你创建参数化的装饰器。\n",
    "# Usage\n",
    "@multiply(3) # mmultiply(3) 被调用，返回 multiply_generator 函数。\n",
    "             # multiply_generator(return_num) 被调用，返回 new_function 函数。\n",
    "             # return_num 变量被重新赋值为 new_function 函数。 \n",
    "def return_num(num): # return_num = multiply(3)(return_num)\n",
    "                     #            = \n",
    "                     #            =\n",
    "    return num \n",
    "\n",
    "# now return_num is decorated and reassied into it self. \n",
    "return_num(5) # return_num(5) = multiply(3)(return_num(5)) = new_function(5)\n",
    "\n",
    "    \"\"\"让我们分解这个装饰过程：\n",
    "\n",
    "multiply(3) 被调用，返回 multiply_generator。\n",
    "multiply_generator 被调用，并将 return_num 作为 old_function 参数传递给它。\n",
    "因此，在 multiply_generator 函数内部，old_function 实际上指向了原始的 return_num 函数。\n",
    "    \"\"\"\n",
    "\n"
   ]
  },
  {
   "cell_type": "markdown",
   "metadata": {},
   "source": [
    "# Excecise\n",
    "Make a decorator factory which returns a decorator that decorates functions with one argument. \n",
    "The factory should take one argument, a type, and then returns a decorator that makes function should check if the input is the correct type. \n",
    "If it is wrong, it should print(\"Bad Type\") \n",
    "(In reality, it should raise an error, but error raising isn't in this tutorial). \n",
    "Look at the tutorial code and expected output to see what it is if you are confused (I know I would be.) \n",
    "Using isinstance(object, type_of_object) or type(object) might help."
   ]
  },
  {
   "cell_type": "markdown",
   "metadata": {},
   "source": [
    "这个例子展示了如何使用装饰器来实现一种通用的类型检查机制。\n",
    "通过使用装饰器工厂，你可以为不同类型的函数创建类型检查装饰器。\n",
    "这使得代码更加健壮和易于维护，因为可以确保函数只接收预期类型的参数。"
   ]
  },
  {
   "cell_type": "code",
   "execution_count": null,
   "metadata": {},
   "outputs": [],
   "source": [
    "def type_check(correct_type):  # 装饰器工厂    #  `type_check` 装饰器工厂创建了可以进行类型检查的装饰器。\n",
    "    def check(old_function):   # 装饰器        # 内部函数 \n",
    "        def new_function(arg): # 包装函数|闭包 # 闭包允许 `new_function` 访问 `correct_type`。\n",
    "                               # `new_function` 拦截了原始函数的调用，执行了类型检查，然后根据检查结果调用或不调用原始函数。\n",
    "            if (isinstance(arg, correct_type)):\n",
    "                return old_function(arg)\n",
    "            else:\n",
    "                print(\"Bad Type\")\n",
    "        return new_function\n",
    "    return check\n",
    "\n",
    "@type_check(int)\n",
    "def times2(num): # times2 = type_check(int)(times2)\n",
    "                 # times2 is assigneed to new_functions\n",
    "    return num*2\n",
    "\n",
    "print(times2(2)) # check(times2(2)) = new_function(2)\n",
    "times2('Not A Number')\n",
    "\n",
    "@type_check(str)\n",
    "def first_letter(word): # first_letter = type_check(str)(first_letter) \n",
    "                        # fisrt_letter is assigneed to new_functions\n",
    "    return word[0]\n",
    "\n",
    "print(first_letter('Hello World'))\n",
    "first_letter(['Not', 'A', 'String'])"
   ]
  },
  {
   "cell_type": "markdown",
   "metadata": {},
   "source": [
    "4. 装饰器应用 (@type_check(int))\n",
    "\n",
    "@type_check(int) 语法等价于 times2 = type_check(int)(times2)。\n",
    "它的工作方式如下：\n",
    "type_check(int) 被调用，返回 check 函数。\n",
    "check(times2) 被调用，返回 new_function 函数。\n",
    "times2 被重新赋值为 new_function。\n",
    "因此，当您调用 times2(2) 时，您实际上是在调用 new_function(2)。\n",
    "这段代码的核心概念是装饰器工厂，这使得装饰器的参数可以动态的修改。\n",
    "代码执行示例:\n",
    "\n",
    "print(times2(2))\n",
    "new_function(2) 被调用。\n",
    "isinstance(2, int) 为真。\n",
    "old_function(2) （即 times2(2)）被调用，返回 4。\n",
    "print(4) 输出 4。\n",
    "times2('Not A Number')\n",
    "new_function('Not A Number') 被调用。\n",
    "isinstance('Not A Number', int) 为假。\n",
    "print(\"Bad Type\") 输出 \"Bad Type\"。\n",
    "由于原始的times2()函数没有被调用，所以没有返回值返回给外层的print(),所以没有其他东西打印到控制台。"
   ]
  },
  {
   "cell_type": "markdown",
   "metadata": {},
   "source": [
    "Exercise 1: Create a decorator that logs the function's name and arguments each time it's called."
   ]
  },
  {
   "cell_type": "code",
   "execution_count": 9,
   "metadata": {},
   "outputs": [
    {
     "name": "stdout",
     "output_type": "stream",
     "text": [
      "Calling example_function with args: (2,), kwargs: {'b': 3}\n",
      "Calling example_function with args: (4,), kwargs: {}\n"
     ]
    }
   ],
   "source": [
    "def log_calls(func):\n",
    "    def wrapper(*args, **kwargs):\n",
    "        print(f\"Calling {func.__name__} with args: {args}, kwargs: {kwargs}\")\n",
    "        # return func(*args, **kwargs)\n",
    "    return wrapper # 每次调用 example_function 时，实际上调用的是 wrapper 函数\n",
    "\n",
    "@log_calls\n",
    "def example_function(a, b=1):  # example_function = log_calls(example_function)\n",
    "    return a + b\n",
    "\n",
    "example_function(2, b=3)\n",
    "example_function(4)"
   ]
  },
  {
   "cell_type": "markdown",
   "metadata": {},
   "source": [
    "Exercise 2: Create a decorator that caches the results of a function, so that subsequent calls with the same arguments return the cached result."
   ]
  },
  {
   "cell_type": "code",
   "execution_count": 10,
   "metadata": {},
   "outputs": [
    {
     "name": "stdout",
     "output_type": "stream",
     "text": [
      "Calculating...\n",
      "3\n",
      "3\n",
      "Calculating...\n",
      "3\n"
     ]
    }
   ],
   "source": [
    "def cache(func):\n",
    "    results = {}\n",
    "    def wrapper(*args, **kwargs):\n",
    "        key = (args, tuple(sorted(kwargs.items())))\n",
    "        if key not in results:\n",
    "            results[key] = func(*args, **kwargs)\n",
    "        return results[key]\n",
    "    return wrapper\n",
    "\n",
    "@cache\n",
    "def my_function(x, y):\n",
    "    print(\"Calculating...\")\n",
    "    return x + y\n",
    "\n",
    "print(my_function(1, 2))\n",
    "print(my_function(1, 2))\n",
    "print(my_function(2, 1))"
   ]
  },
  {
   "cell_type": "markdown",
   "metadata": {},
   "source": [
    "Exercise 3: Create a decorator that enforces a specific data type for the function's arguments and return value."
   ]
  },
  {
   "cell_type": "code",
   "execution_count": 11,
   "metadata": {},
   "outputs": [
    {
     "name": "stdout",
     "output_type": "stream",
     "text": [
      "20\n"
     ]
    }
   ],
   "source": [
    "def type_check(expected_type):\n",
    "    def decorator(func):\n",
    "        def wrapper(arg):\n",
    "            if isinstance(arg, expected_type):\n",
    "                return func(arg)\n",
    "            else:\n",
    "                raise TypeError(f\"Argument must be {expected_type}\")\n",
    "        return wrapper\n",
    "    return decorator\n",
    "\n",
    "@type_check(int)\n",
    "def process(number):\n",
    "    return number * 2\n",
    "\n",
    "print(process(10))\n",
    "#process(\"hello\") # will raise type error"
   ]
  },
  {
   "cell_type": "code",
   "execution_count": null,
   "metadata": {},
   "outputs": [],
   "source": []
  }
 ],
 "metadata": {
  "kernelspec": {
   "display_name": "Python 3",
   "language": "python",
   "name": "python3"
  },
  "language_info": {
   "codemirror_mode": {
    "name": "ipython",
    "version": 3
   },
   "file_extension": ".py",
   "mimetype": "text/x-python",
   "name": "python",
   "nbconvert_exporter": "python",
   "pygments_lexer": "ipython3",
   "version": "3.12.4"
  }
 },
 "nbformat": 4,
 "nbformat_minor": 2
}
