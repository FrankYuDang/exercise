{
 "cells": [
  {
   "cell_type": "markdown",
   "metadata": {},
   "source": [
    "# Generators\n"
   ]
  },
  {
   "cell_type": "code",
   "execution_count": 2,
   "metadata": {},
   "outputs": [
    {
     "name": "stdout",
     "output_type": "stream",
     "text": [
      "The No. 0 number is generated\n",
      "and the next number is ... 14!\n",
      "The No. 1 number is generated\n",
      "and the next number is ... 26!\n",
      "The No. 2 number is generated\n",
      "and the next number is ... 4!\n",
      "The No. 3 number is generated\n",
      "and the next number is ... 21!\n",
      "The No. 4 number is generated\n",
      "and the next number is ... 11!\n",
      "The No. 5 number is generated\n",
      "and the next number is ... 31!\n",
      "the 7th number is generated\n",
      "and the next number is ... 13!\n"
     ]
    }
   ],
   "source": [
    "import random\n",
    "def lottery(): #这个函数被定义为一个生成器,因为它使用了 yield 关键字\n",
    "# returns 6 numbers between 1 and 40\n",
    "    for i in range(6):\n",
    "        print(f\"The No. {i} number is generated\")\n",
    "        #yield 是生成器中的关键字。它的作用就是暂停一个函数，然后返回值，之后保留函数的现场。 \n",
    "        # 当下次这个generator被调用的时候就会在上一次暂停的地方继续执行。\n",
    "        # 生成器每次产生一个值，而不是一次性返回所有值。这在处理大量数据时非常有用，因为它可以节省内存。\n",
    "        yield random.randint(1, 40)\n",
    "        \n",
    "    # returns a 7th number between 1 and 15\n",
    "    print(\"the 7th number is generated\")\n",
    "    yield random.randint(1, 15)\n",
    "    \n",
    "for random_number in lottery():\n",
    "    print(\"and the next number is ... %d!\" %(random_number))\n",
    "    #print(f\"and the next number is ...{random_number}\")\n",
    "    \n"
   ]
  },
  {
   "cell_type": "markdown",
   "metadata": {},
   "source": [
    "## 生成器（generator）与普通函数的区别\n",
    "\n",
    "**返回值**:\n",
    "- 普通函数使用 return 返回一个值，函数执行完毕后终止。\n",
    "- 生成器使用 yield 返回一个值，但函数不会立即终止，而是暂停执行，保留当前状态。\n",
    "**内存使用**:\n",
    "- 普通函数一次性返回所有结果，如果结果很大，会占用大量内存。\n",
    "- 生成器逐个产生结果，不会一次性加载所有结果到内存，因此更节省内存。\n",
    "**迭代**:\n",
    "生成器是可迭代的，可以使用 for 循环遍历。"
   ]
  },
  {
   "cell_type": "markdown",
   "metadata": {},
   "source": [
    "## Exercise\n",
    "write a generator function which returns the Fibonacci Series"
   ]
  },
  {
   "cell_type": "code",
   "execution_count": null,
   "metadata": {},
   "outputs": [],
   "source": [
    "a = 1\n",
    "b = 2\n",
    "a, b = b, a\n",
    "print(a, b)\n"
   ]
  },
  {
   "cell_type": "code",
   "execution_count": 3,
   "metadata": {},
   "outputs": [
    {
     "name": "stdout",
     "output_type": "stream",
     "text": [
      "Good, the fib function is a generator.\n",
      "1\n",
      "1\n",
      "2\n",
      "3\n",
      "5\n",
      "8\n",
      "13\n",
      "21\n",
      "34\n",
      "55\n"
     ]
    }
   ],
   "source": [
    "import types\n",
    "\n",
    "def fib():\n",
    "    # x1 = 1\n",
    "    # x2 = 1\n",
    "    # for _ in range(100):\n",
    "    #     x1, x2= x2, x1+x2\n",
    "    #     yield x2 \n",
    "    a, b = 1, 1\n",
    "    while 1:\n",
    "        yield a \n",
    "        a, b = b, a + b \n",
    "   \n",
    "    \n",
    "if type(fib()) is types.GeneratorType:\n",
    "    print(\"Good, the fib function is a generator.\")\n",
    "    \n",
    "    counter = 0\n",
    "    \n",
    "    for n in fib():\n",
    "        print(n)\n",
    "        counter += 1\n",
    "        if counter == 10:\n",
    "            break\n",
    "        \n",
    "        \n",
    "\n",
    "        "
   ]
  },
  {
   "cell_type": "code",
   "execution_count": null,
   "metadata": {},
   "outputs": [],
   "source": []
  }
 ],
 "metadata": {
  "kernelspec": {
   "display_name": "base",
   "language": "python",
   "name": "python3"
  },
  "language_info": {
   "codemirror_mode": {
    "name": "ipython",
    "version": 3
   },
   "file_extension": ".py",
   "mimetype": "text/x-python",
   "name": "python",
   "nbconvert_exporter": "python",
   "pygments_lexer": "ipython3",
   "version": "3.12.7"
  }
 },
 "nbformat": 4,
 "nbformat_minor": 2
}
