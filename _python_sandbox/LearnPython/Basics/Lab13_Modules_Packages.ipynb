{
 "cells": [
  {
   "cell_type": "markdown",
   "metadata": {},
   "source": [
    "# Modules and pacakges\n",
    "a module is a piece of software that has a specific functionality.\n",
    "For example, when building a ping pong game, \n",
    "one module may be responsible for the game logic, \n",
    "and another module draws the game on the screen.\n",
    "Each module consists of a different file, which may be edited separately."
   ]
  },
  {
   "cell_type": "markdown",
   "metadata": {},
   "source": [
    "## writing modules\n",
    "A python module can have a set of functions, classes, or variables defined and implemented. \n",
    "\n",
    "mygame/\n",
    "- mygame/game.py\n",
    "- mygame/draw.py\n",
    "\n",
    "The python script game.py implements the game. \n",
    "It uses the function draw_game from the file draw.py,\n",
    "in other words, the draw module that implements the logic for drawing the game on the screen.\n",
    "\n"
   ]
  },
  {
   "cell_type": "markdown",
   "metadata": {},
   "source": [
    "## importing module objects to the current namespce\n",
    "A namespace is a system where every object is named and can be accessed in python.\n",
    "we import the function draw_game into the main script's namespae by using the from command."
   ]
  },
  {
   "cell_type": "markdown",
   "metadata": {},
   "source": [
    "## importing all objects from a module\n",
    "you can use import * command to import all the objects in a module like this. \n"
   ]
  },
  {
   "cell_type": "markdown",
   "metadata": {},
   "source": [
    "## Custom import name \n",
    "Modules can be loaded under any name you want. "
   ]
  },
  {
   "cell_type": "code",
   "execution_count": null,
   "metadata": {},
   "outputs": [],
   "source": [
    "# game.py\n",
    "# import the draw module\n",
    "if visual_mode:\n",
    "    # in visual mode, we draw using graphics\n",
    "    import draw_visual as draw\n",
    "else:\n",
    "    # in textual mode, we print out text\n",
    "    import draw_textual as draw\n",
    "\n",
    "def main():\n",
    "    result = play_game()\n",
    "    # this can either be visual or textual depending on visual_mode\n",
    "    draw.draw_game(result)"
   ]
  },
  {
   "cell_type": "markdown",
   "metadata": {},
   "source": [
    "## Module initialization\n",
    "The imported modleu only be initialized once. "
   ]
  },
  {
   "cell_type": "code",
   "execution_count": null,
   "metadata": {},
   "outputs": [],
   "source": [
    "# draw.py\n",
    "\n",
    "def draw_game():\n",
    "    # when clearing the screen we can use the main screen object initialized in this module\n",
    "    clear_screen(main_screen)\n",
    "    ...\n",
    "\n",
    "def clear_screen(screen):\n",
    "    ...\n",
    "\n",
    "class Screen():\n",
    "    ...\n",
    "\n",
    "# initialize main_screen as a singleton\n",
    "main_screen = Screen()"
   ]
  },
  {
   "cell_type": "markdown",
   "metadata": {},
   "source": [
    "## Extending module load path\n",
    "default local directory, built-in modules, or **environment variable** to specify additional directories to look for moduels like this "
   ]
  },
  {
   "cell_type": "code",
   "execution_count": null,
   "metadata": {},
   "outputs": [],
   "source": [
    "PYTHONPATH=/foo python game.py\n",
    "sys.path.append(\"/foo\") \n",
    "\n"
   ]
  },
  {
   "cell_type": "markdown",
   "metadata": {},
   "source": [
    "## Exploring built-in modules\n",
    "Two very important functions comes in handy when exploring modules in python - the dir and help functions"
   ]
  },
  {
   "cell_type": "code",
   "execution_count": null,
   "metadata": {},
   "outputs": [],
   "source": [
    "import urllib\n",
    "\n",
    "# use it\n",
    "urllib.urlopen()\n",
    "dir(urllib)\n",
    "help(urllib.urlopen)"
   ]
  },
  {
   "cell_type": "markdown",
   "metadata": {},
   "source": [
    "## Writing packages\n",
    "packages are namespaces containing multiple packages and modules.\n",
    "they're just directories, but with certain requirements. \n",
    "\n",
    "Each package is a diretory, which **must** have a special file called __init__.py "
   ]
  },
  {
   "cell_type": "code",
   "execution_count": null,
   "metadata": {},
   "outputs": [],
   "source": [
    "import foo.bar\n",
    "from foo import bar\n",
    "\n"
   ]
  },
  {
   "cell_type": "code",
   "execution_count": null,
   "metadata": {},
   "outputs": [],
   "source": [
    "import re\n",
    "\n",
    "find_members = []\n",
    "for member in dir(re):\n",
    "    if 'find' in member:\n",
    "        find_members.append(member)\n",
    "        \n",
    "print(sorted(find_members))"
   ]
  },
  {
   "cell_type": "code",
   "execution_count": null,
   "metadata": {},
   "outputs": [],
   "source": []
  }
 ],
 "metadata": {
  "language_info": {
   "name": "python"
  }
 },
 "nbformat": 4,
 "nbformat_minor": 2
}
