{
 "cells": [
  {
   "cell_type": "markdown",
   "metadata": {},
   "source": [
    "# Dictionary\n",
    "A dictionary is a data type similar to arrays, but works with keys and values instead of indexes."
   ]
  },
  {
   "cell_type": "code",
   "execution_count": 1,
   "metadata": {},
   "outputs": [
    {
     "name": "stdout",
     "output_type": "stream",
     "text": [
      "{'John': 123, 'Jack': 456, 'Jill': 789}\n"
     ]
    }
   ],
   "source": [
    "phonebook = {}\n",
    "phonebook[\"John\"] = 123\n",
    "phonebook[\"Jack\"] = 456\n",
    "phonebook[\"Jill\"] = 789\n",
    "print(phonebook)"
   ]
  },
  {
   "cell_type": "markdown",
   "metadata": {},
   "source": [
    "Alternatively, a dictionary can be initialized with the same values in the following notation:"
   ]
  },
  {
   "cell_type": "code",
   "execution_count": 2,
   "metadata": {},
   "outputs": [
    {
     "name": "stdout",
     "output_type": "stream",
     "text": [
      "{'John': 123, 'Jack': 456, 'Jill': 789}\n"
     ]
    }
   ],
   "source": [
    "phonebook = {\n",
    "    \"John\" : 123,\n",
    "    \"Jack\" : 456,\n",
    "    \"Jill\" : 789\n",
    "}\n",
    "print(phonebook)"
   ]
  },
  {
   "cell_type": "markdown",
   "metadata": {},
   "source": [
    "# iterating over dictionaries\n",
    "Unlike a list, does not keep the order of the values stored in it.\n",
    "To iterate over key value pairs, use the following syntax:"
   ]
  },
  {
   "cell_type": "code",
   "execution_count": 3,
   "metadata": {},
   "outputs": [
    {
     "name": "stdout",
     "output_type": "stream",
     "text": [
      "Phone number of John is 123\n",
      "Phone number of Jack is 456\n",
      "Phone number of Jill is 789\n"
     ]
    }
   ],
   "source": [
    "phonebook = {\n",
    "    \"John\" : 123,\n",
    "    \"Jack\" : 456,\n",
    "    \"Jill\" : 789\n",
    "}\n",
    "\n",
    "for name, number in phonebook.items():\n",
    "    print(\"Phone number of %s is %d\" % (name, number))\n"
   ]
  },
  {
   "cell_type": "markdown",
   "metadata": {},
   "source": [
    "# Removing a value\n",
    "to remove a specified index, use either one of the following notations. del or .pop"
   ]
  },
  {
   "cell_type": "code",
   "execution_count": 5,
   "metadata": {},
   "outputs": [
    {
     "name": "stdout",
     "output_type": "stream",
     "text": [
      "{'Jack': 456, 'Jill': 789}\n",
      "{'Jill': 789}\n"
     ]
    }
   ],
   "source": [
    "phonebook = {\n",
    "    \"John\" : 123,\n",
    "    \"Jack\" : 456,\n",
    "    \"Jill\" : 789\n",
    "}\n",
    "del phonebook[\"John\"]\n",
    "print(phonebook)\n",
    "\n",
    "phonebook.pop(\"Jack\")\n",
    "print(phonebook)\n"
   ]
  },
  {
   "cell_type": "code",
   "execution_count": null,
   "metadata": {},
   "outputs": [],
   "source": []
  }
 ],
 "metadata": {
  "kernelspec": {
   "display_name": "base",
   "language": "python",
   "name": "python3"
  },
  "language_info": {
   "codemirror_mode": {
    "name": "ipython",
    "version": 3
   },
   "file_extension": ".py",
   "mimetype": "text/x-python",
   "name": "python",
   "nbconvert_exporter": "python",
   "pygments_lexer": "ipython3",
   "version": "3.12.7"
  }
 },
 "nbformat": 4,
 "nbformat_minor": 2
}
