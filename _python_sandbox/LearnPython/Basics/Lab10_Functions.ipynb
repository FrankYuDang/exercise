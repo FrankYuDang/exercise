{
 "cells": [
  {
   "cell_type": "markdown",
   "metadata": {},
   "source": [
    "\n"
   ]
  },
  {
   "cell_type": "markdown",
   "metadata": {},
   "source": [
    "# functions\n",
    "block_head:\n",
    "     1st block line \n",
    "     2nd block line\n",
    "\n",
    "block_keyword block_name(argument1, argument2, ...)\n",
    "(block keywords you already know are \"if\", \"for\" \"while\")"
   ]
  },
  {
   "cell_type": "code",
   "execution_count": null,
   "metadata": {},
   "outputs": [
    {
     "name": "stdout",
     "output_type": "stream",
     "text": [
      "hello from my function!\n"
     ]
    },
    {
     "data": {
      "text/plain": [
       "<function __main__.my_function()>"
      ]
     },
     "execution_count": 4,
     "metadata": {},
     "output_type": "execute_result"
    }
   ],
   "source": [
    "def my_function():\n",
    "    print(\"hello from my function!\")\n",
    "\n",
    "# function receive arguments\n",
    "def my_function_with_args(username, greeting):\n",
    "    print(\"Hello, %s, From my function!, I wish you %s\" % (username, greeting))\n",
    "    \n",
    "# Function may return a value to the caller, using the keyword \"return\"\n",
    "def sum_two_numbers(a, b):\n",
    "    return a + b\n",
    "\n",
    "\n"
   ]
  },
  {
   "cell_type": "code",
   "execution_count": null,
   "metadata": {},
   "outputs": [
    {
     "name": "stdout",
     "output_type": "stream",
     "text": [
      "hello from my function!\n",
      "Hello, john doe, From my function!, I wish you a great year!\n"
     ]
    }
   ],
   "source": [
    "# how do you call functions in PYthon\n",
    "my_function()\n",
    "my_function_with_args(\"john doe\", \"a great year!\")\n",
    "x = sum_two_numbers(1,2)\n",
    "print(x)\n",
    "\n"
   ]
  },
  {
   "cell_type": "code",
   "execution_count": null,
   "metadata": {},
   "outputs": [
    {
     "name": "stdout",
     "output_type": "stream",
     "text": [
      "More organized code is a benefi of functions!\n",
      "More readable code is a benefi of functions!\n",
      "Easier code reuse is a benefi of functions!\n",
      "Allowing programmers to share and connect code together is a benefi of functions!\n"
     ]
    }
   ],
   "source": [
    "\n",
    "# Exercise\n",
    "def list_benefits():\n",
    "    list = []\n",
    "    list.append(\"More organized code\")\n",
    "    list.append(\"More readable code\")\n",
    "    list.append(\"Easier code reuse\")\n",
    "    list.append(\"Allowing programmers to share and connect code together\")\n",
    "    return list\n",
    "\n",
    "# Modify this function to concatenate to each benefit - \" is a benefit of functions!\"\n",
    "def build_sentence(benefit):\n",
    "    sentence = benefit + \" is a benefi of functions!\"\n",
    "    return sentence\n",
    "\n",
    "def name_the_benefits_of_functions():\n",
    "    list_of_benefits = list_benefits()\n",
    "    for benefit in list_of_benefits:\n",
    "        print(build_sentence(benefit))\n",
    "        \n",
    "name_the_benefits_of_functions()"
   ]
  },
  {
   "cell_type": "code",
   "execution_count": 9,
   "metadata": {},
   "outputs": [
    {
     "name": "stdout",
     "output_type": "stream",
     "text": [
      "More organized code is a benefit of functions!\n",
      "More readable code is a benefit of functions!\n",
      "Easier code reuse is a benefit of functions!\n",
      "Allowing programmers to share and connect code together is a benefit of functions!\n"
     ]
    }
   ],
   "source": [
    "# his solution \n",
    "# Modify this function to return a list of strings as defined above\n",
    "def list_benefits():\n",
    "    return \"More organized code\", \"More readable code\", \"Easier code reuse\", \"Allowing programmers to share and connect code together\"\n",
    "\n",
    "# Modify this function to concatenate to each benefit - \" is a benefit of functions!\"\n",
    "def build_sentence(benefit):\n",
    "    return \"%s is a benefit of functions!\" % benefit\n",
    "\n",
    "\n",
    "def name_the_benefits_of_functions():\n",
    "    list_of_benefits = list_benefits()\n",
    "    for benefit in list_of_benefits:\n",
    "        print(build_sentence(benefit))\n",
    "\n",
    "name_the_benefits_of_functions()"
   ]
  },
  {
   "cell_type": "code",
   "execution_count": null,
   "metadata": {},
   "outputs": [],
   "source": []
  }
 ],
 "metadata": {
  "kernelspec": {
   "display_name": "base",
   "language": "python",
   "name": "python3"
  },
  "language_info": {
   "codemirror_mode": {
    "name": "ipython",
    "version": 3
   },
   "file_extension": ".py",
   "mimetype": "text/x-python",
   "name": "python",
   "nbconvert_exporter": "python",
   "pygments_lexer": "ipython3",
   "version": "3.12.7"
  }
 },
 "nbformat": 4,
 "nbformat_minor": 2
}
