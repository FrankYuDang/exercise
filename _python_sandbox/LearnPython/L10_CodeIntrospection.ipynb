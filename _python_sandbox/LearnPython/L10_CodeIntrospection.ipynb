{
 "cells": [
  {
   "cell_type": "code",
   "execution_count": 1,
   "metadata": {},
   "outputs": [
    {
     "ename": "",
     "evalue": "",
     "output_type": "error",
     "traceback": [
      "\u001b[1;31mCannot execute code, session has been disposed. Please try restarting the Kernel."
     ]
    },
    {
     "ename": "",
     "evalue": "",
     "output_type": "error",
     "traceback": [
      "\u001b[1;31mCannot execute code, session has been disposed. Please try restarting the Kernel. \n",
      "\u001b[1;31mView Jupyter <a href='command:jupyter.viewOutput'>log</a> for further details."
     ]
    }
   ],
   "source": [
    "help()\n",
    "dir()\n",
    "hasattr()\n",
    "id()\n",
    "type()\n",
    "repr()\n",
    "callable()\n",
    "issubclass()\n",
    "isinstance()\n",
    "__doc__\n",
    "__name__\n",
    "q\n"
   ]
  },
  {
   "cell_type": "code",
   "execution_count": null,
   "metadata": {},
   "outputs": [],
   "source": [
    "class Vehicle:\n",
    "    name = \"\"\n",
    "    kind = \"car\" \n",
    "    color = \"\" \n",
    "    value = 100.00 \n",
    "    def description(self):\n",
    "        desc_str = \"%s is a %s %s worth $%.2f.\" %(self.name, self.color, self.kind, self.value)\n",
    "        return desc_str\n",
    "    \n",
    "\n",
    "    "
   ]
  },
  {
   "cell_type": "markdown",
   "metadata": {},
   "source": [
    "# Print a list of all attributes of the given Vehicle object."
   ]
  },
  {
   "cell_type": "code",
   "execution_count": null,
   "metadata": {},
   "outputs": [
    {
     "name": "stdout",
     "output_type": "stream",
     "text": [
      "['__class__', '__delattr__', '__dict__', '__dir__', '__doc__', '__eq__', '__format__', '__ge__', '__getattribute__', '__getstate__', '__gt__', '__hash__', '__init__', '__init_subclass__', '__le__', '__lt__', '__module__', '__ne__', '__new__', '__reduce__', '__reduce_ex__', '__repr__', '__setattr__', '__sizeof__', '__str__', '__subclasshook__', '__weakref__', 'color', 'description', 'kind', 'name', 'value']\n",
      "Help on class Vehicle in module __main__:\n",
      "\n",
      "class Vehicle(builtins.object)\n",
      " |  Methods defined here:\n",
      " |\n",
      " |  description(self)\n",
      " |\n",
      " |  ----------------------------------------------------------------------\n",
      " |  Data descriptors defined here:\n",
      " |\n",
      " |  __dict__\n",
      " |      dictionary for instance variables\n",
      " |\n",
      " |  __weakref__\n",
      " |      list of weak references to the object\n",
      " |\n",
      " |  ----------------------------------------------------------------------\n",
      " |  Data and other attributes defined here:\n",
      " |\n",
      " |  color = ''\n",
      " |\n",
      " |  kind = 'car'\n",
      " |\n",
      " |  name = ''\n",
      " |\n",
      " |  value = 100.0\n",
      "\n",
      "None\n",
      "2580301657488\n",
      "<class 'type'>\n",
      "<class '__main__.Vehicle'>\n",
      "True\n"
     ]
    }
   ],
   "source": [
    "\n",
    "\n",
    "class Vehicle:\n",
    "    # def Vehicle(self):\n",
    "    #     self.name = \"\"\n",
    "    #     self.kind = \"car\"\n",
    "    #     self.color = \"\"\n",
    "    #     self.value = 100.00\n",
    "\n",
    "        name = \"\"\n",
    "        kind = \"car\"\n",
    "        color = \"\"\n",
    "        value = 100.00\n",
    "        \n",
    "        \n",
    "        def description(self):\n",
    "            desc_str = \"%s is a %s %s worth $%.2f.\" % (self.name, self.color, self.kind, self.value)\n",
    "            return desc_str\n",
    "\n",
    "\n",
    "print(dir(Vehicle))\n",
    "print(help(Vehicle))\n",
    "# print(hasattr(Vehicle))\n",
    "print(id(Vehicle))\n",
    "Vehicle\n",
    "print(type(Vehicle))\n",
    "print(repr(Vehicle))\n",
    "print(callable(Vehicle))\n",
    "Vehicle.__name__\n",
    "Vehicle.__doc__"
   ]
  },
  {
   "cell_type": "code",
   "execution_count": null,
   "metadata": {},
   "outputs": [],
   "source": []
  }
 ],
 "metadata": {
  "kernelspec": {
   "display_name": "Python 3",
   "language": "python",
   "name": "python3"
  },
  "language_info": {
   "codemirror_mode": {
    "name": "ipython",
    "version": 3
   },
   "file_extension": ".py",
   "mimetype": "text/x-python",
   "name": "python",
   "nbconvert_exporter": "python",
   "pygments_lexer": "ipython3",
   "version": "3.12.4"
  }
 },
 "nbformat": 4,
 "nbformat_minor": 2
}
