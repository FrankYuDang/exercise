{
 "cells": [
  {
   "cell_type": "markdown",
   "metadata": {},
   "source": [
    "# Closure\n",
    "闭包是一个可以记住其创建时所在的环境的函数。\n",
    "闭包允许一个函数访问并操作其外部作用域中的变量，即使外部作用域已经结束。"
   ]
  },
  {
   "cell_type": "code",
   "execution_count": 1,
   "metadata": {},
   "outputs": [
    {
     "name": "stdout",
     "output_type": "stream",
     "text": [
      "15\n"
     ]
    }
   ],
   "source": [
    "def outer_function(x):\n",
    "    def inner_function(y):\n",
    "        return x + y  # inner_function 使用了 outer_function 的变量 x\n",
    "    return inner_function\n",
    "\n",
    "closure_instance = outer_function(10)  # 创建一个闭包实例\n",
    "result = closure_instance(5)  # 调用闭包\n",
    "print(result)  # 输出 15"
   ]
  },
  {
   "cell_type": "markdown",
   "metadata": {},
   "source": [
    "In programming, an \"enclosing scope\" refers to the scope of a function that contains another function (a nested or inner function), allowing the inner function to access variables and functions defined in the outer function's scope"
   ]
  },
  {
   "cell_type": "code",
   "execution_count": 4,
   "metadata": {},
   "outputs": [
    {
     "name": "stdout",
     "output_type": "stream",
     "text": [
      "The transmit_to_space(msg) is called\n",
      "Before the message is printed\n",
      "1 burn the sun\n",
      "After the function is called\n",
      "The transmit_to_space(msg) is called\n",
      "Before the message is printed\n",
      "2 burn the sun\n",
      "After the function is called\n",
      "None\n"
     ]
    }
   ],
   "source": [
    "def transmit_to_space(message):\n",
    "    \"2 This is the enclosing function\" \n",
    "    def data_transmitter():\n",
    "        \"3 The nested function\" \n",
    "        print(\"Before the message is printed\")\n",
    "        print(message)\n",
    "        print(\"After the function is called\")\n",
    "    print(\"The transmit_to_space(msg) is called\")    \n",
    "    data_transmitter()\n",
    "    \n",
    "    \n",
    "transmit_to_space(\"1 burn the sun\")\n",
    "print(transmit_to_space(\"2 burn the sun\"))"
   ]
  },
  {
   "cell_type": "code",
   "execution_count": 1,
   "metadata": {},
   "outputs": [
    {
     "name": "stdout",
     "output_type": "stream",
     "text": [
      "<function transmit_to_space.<locals>.data_transmitter at 0x00000205D5BB3920>\n",
      "3 Burn the Sun!\n"
     ]
    }
   ],
   "source": [
    "def transmit_to_space(message):\n",
    "  \"This is the enclosing function\"\n",
    "  def data_transmitter():\n",
    "      \"The nested function\"\n",
    "      print(message)\n",
    "  return data_transmitter\n",
    "\n",
    "transmit_to_space(\"1 Burn the Sun!\")\n",
    "print(transmit_to_space(\"2 burn the sun\"))\n",
    "fun2 = transmit_to_space(\"3 Burn the Sun!\")\n",
    "fun2()"
   ]
  },
  {
   "cell_type": "markdown",
   "metadata": {},
   "source": [
    "# 閉包函數特別有用\n",
    "- state maintainance 保持状态， 记住外部变量值\n",
    "- Factory Functions 创建工厂函数\n",
    "- Decorator 装饰器\n",
    "- Event handling 事件处理\n",
    "- data hiding 数据隐藏"
   ]
  },
  {
   "cell_type": "markdown",
   "metadata": {},
   "source": [
    "3. Common Mistakes and Misconceptions\n",
    "\n",
    "- Misconception 1: Closures are only about nested functions.\n",
    "Reality: While closures are often created with nested functions, the key is that the inner function retains access to the outer function's variables, even after the outer function has finished executing.   \n",
    "Avoidance: Focus on the variable retention aspect, not just the nesting.\n",
    "- Mistake 2: Modifying outer variables within the closure (without nonlocal).\n",
    "Problem: Directly assigning to an outer variable inside a closure will create a new local variable, not modify the outer one.\n",
    "Avoidance: Use the nonlocal keyword to explicitly modify variables in the enclosing scope.\n",
    "- Mistake 3: Confusing closures with object-oriented programming.\n",
    "Problem: While both closures and objects can maintain state, they serve different purposes. ** Closures are functions with retained state, while objects are instances of classes with attributes and methods** .\n",
    "Avoidance: Understand that closures are function based, and objects are class based"
   ]
  },
  {
   "cell_type": "code",
   "execution_count": 4,
   "metadata": {},
   "outputs": [
    {
     "name": "stdout",
     "output_type": "stream",
     "text": [
      "1\n",
      "2\n",
      "3\n"
     ]
    }
   ],
   "source": [
    "# 创建计数器\n",
    "def make_counter():\n",
    "    count = 0\n",
    "    def counter():\n",
    "        nonlocal count\n",
    "        count += 1\n",
    "        return count\n",
    "    return counter\n",
    "\n",
    "my_counter = make_counter()\n",
    "print(my_counter()) # 1\n",
    "print(my_counter()) # 2\n",
    "print(my_counter()) # 3"
   ]
  },
  {
   "cell_type": "markdown",
   "metadata": {},
   "source": [
    "Exercise 1: Create a closure that implements a counter. Each time the closure is called, it should return the next number in the sequence."
   ]
  },
  {
   "cell_type": "code",
   "execution_count": null,
   "metadata": {},
   "outputs": [
    {
     "name": "stdout",
     "output_type": "stream",
     "text": [
      "1\n",
      "2\n"
     ]
    }
   ],
   "source": [
    "\n",
    "def make_counter():\n",
    "    count = 0\n",
    "    def counter():\n",
    "        nonlocal count\n",
    "        count += 1\n",
    "        return count \n",
    "    return counter\n",
    "\n",
    "my_counter = make_counter()\n",
    "print(my_counter())\n",
    "print(my_counter())\n"
   ]
  },
  {
   "cell_type": "markdown",
   "metadata": {},
   "source": [
    "Exercise 2: Create a closure that implements a function factory for creating functions that multiply a given number by a specific factor."
   ]
  },
  {
   "cell_type": "code",
   "execution_count": null,
   "metadata": {},
   "outputs": [
    {
     "name": "stdout",
     "output_type": "stream",
     "text": [
      "20\n",
      "30\n"
     ]
    }
   ],
   "source": [
    "# 创建工厂函数\n",
    "def multiple_factory(factor):   \n",
    "    def multiply(number):\n",
    "        return number * factor\n",
    "    return multiply\n",
    "\n",
    "double_times = multiple_factory(2)\n",
    "triple_times = multiple_factory(3)\n",
    "\n",
    "print(double_times(10)) # 20\n",
    "print(triple_times(10)) # 30"
   ]
  },
  {
   "cell_type": "markdown",
   "metadata": {},
   "source": [
    "Exercise 3: Create a closure that stores a list, and has inner functions that can add items to that list, and return the current list."
   ]
  },
  {
   "cell_type": "code",
   "execution_count": 15,
   "metadata": {},
   "outputs": [
    {
     "name": "stdout",
     "output_type": "stream",
     "text": [
      "it is called\n",
      "[1, 2, 3, 4, 8]\n",
      "it is called\n",
      "[1, 2, 3, 4, 8, 9]\n"
     ]
    }
   ],
   "source": [
    "def store_list(current_list):\n",
    "    def add_element_to(item):\n",
    "        print(\"it is called\")\n",
    "        current_list.append(item)\n",
    "        return current_list\n",
    "    return add_element_to\n",
    "\n",
    "stored_goods = store_list([1, 2, 3, 4])\n",
    "print(stored_goods(8))\n",
    "print(stored_goods(9))\n",
    "        "
   ]
  },
  {
   "cell_type": "code",
   "execution_count": null,
   "metadata": {},
   "outputs": [],
   "source": [
    "def print_msg(number):\n",
    "    def printer():\n",
    "        \"Here we are using the nonlocal keyword\"\n",
    "        nonlocal number\n",
    "        number=3\n",
    "        print(number)\n",
    "    printer()\n",
    "    print(number)\n",
    "\n",
    "print_msg(9)"
   ]
  },
  {
   "cell_type": "code",
   "execution_count": null,
   "metadata": {},
   "outputs": [
    {
     "name": "stdout",
     "output_type": "stream",
     "text": [
      "25\n",
      "125\n"
     ]
    }
   ],
   "source": [
    "# 创建工厂函数\n",
    "def power_factory(exponent):\n",
    "    def power(base):\n",
    "        return base ** exponent\n",
    "    return power\n",
    "\n",
    "square = power_factory(2)\n",
    "cube = power_factory(3)\n",
    "\n",
    "print(square(5)) # 25\n",
    "print(cube(5)) # 125"
   ]
  },
  {
   "cell_type": "code",
   "execution_count": 7,
   "metadata": {},
   "outputs": [
    {
     "name": "stdout",
     "output_type": "stream",
     "text": [
      "3\n",
      "9\n"
     ]
    }
   ],
   "source": [
    "def print_msg(number):\n",
    "    def printer():\n",
    "        \"here we are using the nonlocal keyword\" \n",
    "        # nonlocal number \n",
    "        number =3\n",
    "        \n",
    "        print(number)\n",
    "    printer()\n",
    "    print(number)\n",
    "    \n",
    "    \n",
    "print_msg(9)"
   ]
  },
  {
   "cell_type": "code",
   "execution_count": null,
   "metadata": {},
   "outputs": [
    {
     "name": "stdout",
     "output_type": "stream",
     "text": [
      "hello\n"
     ]
    }
   ],
   "source": [
    "def transmit_to_space(message):\n",
    "    \"This is the enclosing function\"\n",
    "    def data_transmitter():\n",
    "        \"The nested function\"\n",
    "        print(message)\n",
    "    return data_transmitter\n",
    "    \n",
    "message = \"hello\"\n",
    "transmit_to_space(message)\n",
    "fun2 = transmit_to_space(message)\n",
    "fun2()"
   ]
  },
  {
   "cell_type": "code",
   "execution_count": null,
   "metadata": {},
   "outputs": [],
   "source": []
  },
  {
   "cell_type": "code",
   "execution_count": 11,
   "metadata": {},
   "outputs": [
    {
     "name": "stdout",
     "output_type": "stream",
     "text": [
      "45\n"
     ]
    }
   ],
   "source": [
    "def multiplier_of(n):\n",
    "    def multiplier(number):\n",
    "        return number*n\n",
    "    return multiplier\n",
    "\n",
    "multiplywith5 = multiplier_of(5)\n",
    "print(multiplywith5(9))"
   ]
  },
  {
   "cell_type": "code",
   "execution_count": 13,
   "metadata": {},
   "outputs": [
    {
     "data": {
      "text/plain": [
       "45"
      ]
     },
     "execution_count": 13,
     "metadata": {},
     "output_type": "execute_result"
    }
   ],
   "source": [
    "# your code goes here\n",
    "def multiplier_of(num1):\n",
    "    def multiple(num2):\n",
    "        result = num1 * num2\n",
    "        return result\n",
    "    return multiple\n",
    "    \n",
    "\n",
    "multiplywith5 = multiplier_of(5)\n",
    "multiplywith5(9)"
   ]
  },
  {
   "cell_type": "code",
   "execution_count": null,
   "metadata": {},
   "outputs": [],
   "source": []
  }
 ],
 "metadata": {
  "kernelspec": {
   "display_name": "Python 3",
   "language": "python",
   "name": "python3"
  },
  "language_info": {
   "codemirror_mode": {
    "name": "ipython",
    "version": 3
   },
   "file_extension": ".py",
   "mimetype": "text/x-python",
   "name": "python",
   "nbconvert_exporter": "python",
   "pygments_lexer": "ipython3",
   "version": "3.12.4"
  }
 },
 "nbformat": 4,
 "nbformat_minor": 2
}
